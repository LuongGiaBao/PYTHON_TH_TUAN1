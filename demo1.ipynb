{
 "cells": [
  {
   "cell_type": "code",
   "execution_count": 1,
   "metadata": {},
   "outputs": [],
   "source": [
    "import pandas as pd \n",
    "import seaborn as sns\n",
    "import pandas as pd"
   ]
  },
  {
   "cell_type": "code",
   "execution_count": 2,
   "metadata": {},
   "outputs": [],
   "source": [
    "column_name = ['Id','Name','Age','Weight','m0006','m0612','m1218','f0006','f0612','f1218']"
   ]
  },
  {
   "cell_type": "code",
   "execution_count": 3,
   "metadata": {},
   "outputs": [],
   "source": [
    "df = pd.read_csv('patient_heart_rate.csv',names = column_name)"
   ]
  },
  {
   "cell_type": "code",
   "execution_count": 4,
   "metadata": {},
   "outputs": [
    {
     "data": {
      "text/html": [
       "<div>\n",
       "<style scoped>\n",
       "    .dataframe tbody tr th:only-of-type {\n",
       "        vertical-align: middle;\n",
       "    }\n",
       "\n",
       "    .dataframe tbody tr th {\n",
       "        vertical-align: top;\n",
       "    }\n",
       "\n",
       "    .dataframe thead th {\n",
       "        text-align: right;\n",
       "    }\n",
       "</style>\n",
       "<table border=\"1\" class=\"dataframe\">\n",
       "  <thead>\n",
       "    <tr style=\"text-align: right;\">\n",
       "      <th></th>\n",
       "      <th>Id</th>\n",
       "      <th>Name</th>\n",
       "      <th>Age</th>\n",
       "      <th>Weight</th>\n",
       "      <th>m0006</th>\n",
       "      <th>m0612</th>\n",
       "      <th>m1218</th>\n",
       "      <th>f0006</th>\n",
       "      <th>f0612</th>\n",
       "      <th>f1218</th>\n",
       "    </tr>\n",
       "  </thead>\n",
       "  <tbody>\n",
       "    <tr>\n",
       "      <th>0</th>\n",
       "      <td>Id</td>\n",
       "      <td>Name</td>\n",
       "      <td>Age</td>\n",
       "      <td>Weight</td>\n",
       "      <td>m0006</td>\n",
       "      <td>m0612</td>\n",
       "      <td>m1218</td>\n",
       "      <td>f0006</td>\n",
       "      <td>f0612</td>\n",
       "      <td>f1218</td>\n",
       "    </tr>\n",
       "    <tr>\n",
       "      <th>1</th>\n",
       "      <td>1</td>\n",
       "      <td>Mickéy Mousé</td>\n",
       "      <td>56</td>\n",
       "      <td>70kgs</td>\n",
       "      <td>72</td>\n",
       "      <td>69</td>\n",
       "      <td>71</td>\n",
       "      <td>-</td>\n",
       "      <td>-</td>\n",
       "      <td>-</td>\n",
       "    </tr>\n",
       "    <tr>\n",
       "      <th>2</th>\n",
       "      <td>2</td>\n",
       "      <td>Donald Duck</td>\n",
       "      <td>34</td>\n",
       "      <td>154.89lbs</td>\n",
       "      <td>-</td>\n",
       "      <td>-</td>\n",
       "      <td>-</td>\n",
       "      <td>85</td>\n",
       "      <td>84</td>\n",
       "      <td>76</td>\n",
       "    </tr>\n",
       "    <tr>\n",
       "      <th>3</th>\n",
       "      <td>3</td>\n",
       "      <td>Mini Mouse</td>\n",
       "      <td>16</td>\n",
       "      <td>NaN</td>\n",
       "      <td>-</td>\n",
       "      <td>-</td>\n",
       "      <td>-</td>\n",
       "      <td>65</td>\n",
       "      <td>69</td>\n",
       "      <td>72</td>\n",
       "    </tr>\n",
       "    <tr>\n",
       "      <th>4</th>\n",
       "      <td>4</td>\n",
       "      <td>Scrooge McDuck</td>\n",
       "      <td>NaN</td>\n",
       "      <td>78kgs</td>\n",
       "      <td>78</td>\n",
       "      <td>79</td>\n",
       "      <td>72</td>\n",
       "      <td>-</td>\n",
       "      <td>-</td>\n",
       "      <td>-</td>\n",
       "    </tr>\n",
       "  </tbody>\n",
       "</table>\n",
       "</div>"
      ],
      "text/plain": [
       "   Id            Name  Age     Weight  m0006  m0612  m1218  f0006  f0612  \\\n",
       "0  Id            Name  Age     Weight  m0006  m0612  m1218  f0006  f0612   \n",
       "1   1    Mickéy Mousé   56      70kgs     72     69     71      -      -   \n",
       "2   2     Donald Duck   34  154.89lbs      -      -      -     85     84   \n",
       "3   3      Mini Mouse   16        NaN      -      -      -     65     69   \n",
       "4   4  Scrooge McDuck  NaN      78kgs     78     79     72      -      -   \n",
       "\n",
       "   f1218  \n",
       "0  f1218  \n",
       "1      -  \n",
       "2     76  \n",
       "3     72  \n",
       "4      -  "
      ]
     },
     "execution_count": 4,
     "metadata": {},
     "output_type": "execute_result"
    }
   ],
   "source": [
    "df.head(5)"
   ]
  },
  {
   "cell_type": "code",
   "execution_count": 5,
   "metadata": {},
   "outputs": [],
   "source": [
    "df[['Firstname','Lastname']] = df['Name'].str.split(expand=True)\n",
    "df = df.drop(\"Name\", axis=1)"
   ]
  },
  {
   "cell_type": "code",
   "execution_count": 6,
   "metadata": {},
   "outputs": [
    {
     "data": {
      "text/html": [
       "<div>\n",
       "<style scoped>\n",
       "    .dataframe tbody tr th:only-of-type {\n",
       "        vertical-align: middle;\n",
       "    }\n",
       "\n",
       "    .dataframe tbody tr th {\n",
       "        vertical-align: top;\n",
       "    }\n",
       "\n",
       "    .dataframe thead th {\n",
       "        text-align: right;\n",
       "    }\n",
       "</style>\n",
       "<table border=\"1\" class=\"dataframe\">\n",
       "  <thead>\n",
       "    <tr style=\"text-align: right;\">\n",
       "      <th></th>\n",
       "      <th>Id</th>\n",
       "      <th>Age</th>\n",
       "      <th>Weight</th>\n",
       "      <th>m0006</th>\n",
       "      <th>m0612</th>\n",
       "      <th>m1218</th>\n",
       "      <th>f0006</th>\n",
       "      <th>f0612</th>\n",
       "      <th>f1218</th>\n",
       "      <th>Firstname</th>\n",
       "      <th>Lastname</th>\n",
       "    </tr>\n",
       "  </thead>\n",
       "  <tbody>\n",
       "    <tr>\n",
       "      <th>0</th>\n",
       "      <td>Id</td>\n",
       "      <td>Age</td>\n",
       "      <td>Weight</td>\n",
       "      <td>m0006</td>\n",
       "      <td>m0612</td>\n",
       "      <td>m1218</td>\n",
       "      <td>f0006</td>\n",
       "      <td>f0612</td>\n",
       "      <td>f1218</td>\n",
       "      <td>Name</td>\n",
       "      <td>None</td>\n",
       "    </tr>\n",
       "    <tr>\n",
       "      <th>1</th>\n",
       "      <td>1</td>\n",
       "      <td>56</td>\n",
       "      <td>70kgs</td>\n",
       "      <td>72</td>\n",
       "      <td>69</td>\n",
       "      <td>71</td>\n",
       "      <td>-</td>\n",
       "      <td>-</td>\n",
       "      <td>-</td>\n",
       "      <td>Mickéy</td>\n",
       "      <td>Mousé</td>\n",
       "    </tr>\n",
       "    <tr>\n",
       "      <th>2</th>\n",
       "      <td>2</td>\n",
       "      <td>34</td>\n",
       "      <td>154.89lbs</td>\n",
       "      <td>-</td>\n",
       "      <td>-</td>\n",
       "      <td>-</td>\n",
       "      <td>85</td>\n",
       "      <td>84</td>\n",
       "      <td>76</td>\n",
       "      <td>Donald</td>\n",
       "      <td>Duck</td>\n",
       "    </tr>\n",
       "    <tr>\n",
       "      <th>3</th>\n",
       "      <td>3</td>\n",
       "      <td>16</td>\n",
       "      <td>NaN</td>\n",
       "      <td>-</td>\n",
       "      <td>-</td>\n",
       "      <td>-</td>\n",
       "      <td>65</td>\n",
       "      <td>69</td>\n",
       "      <td>72</td>\n",
       "      <td>Mini</td>\n",
       "      <td>Mouse</td>\n",
       "    </tr>\n",
       "    <tr>\n",
       "      <th>4</th>\n",
       "      <td>4</td>\n",
       "      <td>NaN</td>\n",
       "      <td>78kgs</td>\n",
       "      <td>78</td>\n",
       "      <td>79</td>\n",
       "      <td>72</td>\n",
       "      <td>-</td>\n",
       "      <td>-</td>\n",
       "      <td>-</td>\n",
       "      <td>Scrooge</td>\n",
       "      <td>McDuck</td>\n",
       "    </tr>\n",
       "  </tbody>\n",
       "</table>\n",
       "</div>"
      ],
      "text/plain": [
       "   Id  Age     Weight  m0006  m0612  m1218  f0006  f0612  f1218 Firstname  \\\n",
       "0  Id  Age     Weight  m0006  m0612  m1218  f0006  f0612  f1218      Name   \n",
       "1   1   56      70kgs     72     69     71      -      -      -    Mickéy   \n",
       "2   2   34  154.89lbs      -      -      -     85     84     76    Donald   \n",
       "3   3   16        NaN      -      -      -     65     69     72      Mini   \n",
       "4   4  NaN      78kgs     78     79     72      -      -      -   Scrooge   \n",
       "\n",
       "  Lastname  \n",
       "0     None  \n",
       "1    Mousé  \n",
       "2     Duck  \n",
       "3    Mouse  \n",
       "4   McDuck  "
      ]
     },
     "execution_count": 6,
     "metadata": {},
     "output_type": "execute_result"
    }
   ],
   "source": [
    "df.head(5)"
   ]
  },
  {
   "cell_type": "code",
   "execution_count": 7,
   "metadata": {},
   "outputs": [],
   "source": [
    "weight = df['Weight']\n",
    "for i in range(0, len(weight)):\n",
    "     x = str(weight[i])\n",
    "     if 'lbs' in x[-3:]:\n",
    "         x = x[:-3:]\n",
    "         float_x = float(x)\n",
    "         y= int (float_x/2.2)\n",
    "         #y = str(y)\n",
    "         weight[i]= y\n",
    "     if 'kgs' in x[-3:]:\n",
    "         x= x[:-3:]\n",
    "         float_x = float(x)\n",
    "         weight[i] = x    "
   ]
  },
  {
   "cell_type": "code",
   "execution_count": 8,
   "metadata": {},
   "outputs": [],
   "source": [
    "df.rename(columns={'Weight':'Weight_kgs'},inplace=True)"
   ]
  },
  {
   "cell_type": "code",
   "execution_count": 9,
   "metadata": {},
   "outputs": [
    {
     "data": {
      "text/html": [
       "<div>\n",
       "<style scoped>\n",
       "    .dataframe tbody tr th:only-of-type {\n",
       "        vertical-align: middle;\n",
       "    }\n",
       "\n",
       "    .dataframe tbody tr th {\n",
       "        vertical-align: top;\n",
       "    }\n",
       "\n",
       "    .dataframe thead th {\n",
       "        text-align: right;\n",
       "    }\n",
       "</style>\n",
       "<table border=\"1\" class=\"dataframe\">\n",
       "  <thead>\n",
       "    <tr style=\"text-align: right;\">\n",
       "      <th></th>\n",
       "      <th>Id</th>\n",
       "      <th>Age</th>\n",
       "      <th>Weight_kgs</th>\n",
       "      <th>m0006</th>\n",
       "      <th>m0612</th>\n",
       "      <th>m1218</th>\n",
       "      <th>f0006</th>\n",
       "      <th>f0612</th>\n",
       "      <th>f1218</th>\n",
       "      <th>Firstname</th>\n",
       "      <th>Lastname</th>\n",
       "    </tr>\n",
       "  </thead>\n",
       "  <tbody>\n",
       "    <tr>\n",
       "      <th>0</th>\n",
       "      <td>Id</td>\n",
       "      <td>Age</td>\n",
       "      <td>Weight</td>\n",
       "      <td>m0006</td>\n",
       "      <td>m0612</td>\n",
       "      <td>m1218</td>\n",
       "      <td>f0006</td>\n",
       "      <td>f0612</td>\n",
       "      <td>f1218</td>\n",
       "      <td>Name</td>\n",
       "      <td>None</td>\n",
       "    </tr>\n",
       "    <tr>\n",
       "      <th>1</th>\n",
       "      <td>1</td>\n",
       "      <td>56</td>\n",
       "      <td>70</td>\n",
       "      <td>72</td>\n",
       "      <td>69</td>\n",
       "      <td>71</td>\n",
       "      <td>-</td>\n",
       "      <td>-</td>\n",
       "      <td>-</td>\n",
       "      <td>Mickéy</td>\n",
       "      <td>Mousé</td>\n",
       "    </tr>\n",
       "    <tr>\n",
       "      <th>2</th>\n",
       "      <td>2</td>\n",
       "      <td>34</td>\n",
       "      <td>70</td>\n",
       "      <td>-</td>\n",
       "      <td>-</td>\n",
       "      <td>-</td>\n",
       "      <td>85</td>\n",
       "      <td>84</td>\n",
       "      <td>76</td>\n",
       "      <td>Donald</td>\n",
       "      <td>Duck</td>\n",
       "    </tr>\n",
       "    <tr>\n",
       "      <th>3</th>\n",
       "      <td>3</td>\n",
       "      <td>16</td>\n",
       "      <td>NaN</td>\n",
       "      <td>-</td>\n",
       "      <td>-</td>\n",
       "      <td>-</td>\n",
       "      <td>65</td>\n",
       "      <td>69</td>\n",
       "      <td>72</td>\n",
       "      <td>Mini</td>\n",
       "      <td>Mouse</td>\n",
       "    </tr>\n",
       "    <tr>\n",
       "      <th>4</th>\n",
       "      <td>4</td>\n",
       "      <td>NaN</td>\n",
       "      <td>78</td>\n",
       "      <td>78</td>\n",
       "      <td>79</td>\n",
       "      <td>72</td>\n",
       "      <td>-</td>\n",
       "      <td>-</td>\n",
       "      <td>-</td>\n",
       "      <td>Scrooge</td>\n",
       "      <td>McDuck</td>\n",
       "    </tr>\n",
       "  </tbody>\n",
       "</table>\n",
       "</div>"
      ],
      "text/plain": [
       "   Id  Age Weight_kgs  m0006  m0612  m1218  f0006  f0612  f1218 Firstname  \\\n",
       "0  Id  Age     Weight  m0006  m0612  m1218  f0006  f0612  f1218      Name   \n",
       "1   1   56         70     72     69     71      -      -      -    Mickéy   \n",
       "2   2   34         70      -      -      -     85     84     76    Donald   \n",
       "3   3   16        NaN      -      -      -     65     69     72      Mini   \n",
       "4   4  NaN         78     78     79     72      -      -      -   Scrooge   \n",
       "\n",
       "  Lastname  \n",
       "0     None  \n",
       "1    Mousé  \n",
       "2     Duck  \n",
       "3    Mouse  \n",
       "4   McDuck  "
      ]
     },
     "execution_count": 9,
     "metadata": {},
     "output_type": "execute_result"
    }
   ],
   "source": [
    "df.head(5)"
   ]
  },
  {
   "cell_type": "code",
   "execution_count": 10,
   "metadata": {},
   "outputs": [],
   "source": [
    "df.dropna(how='all', inplace=True)"
   ]
  },
  {
   "cell_type": "code",
   "execution_count": 11,
   "metadata": {},
   "outputs": [],
   "source": [
    "df = df.drop_duplicates(subset = ['Firstname','Lastname','Age','Weight_kgs'])"
   ]
  },
  {
   "cell_type": "code",
   "execution_count": 12,
   "metadata": {},
   "outputs": [
    {
     "name": "stdout",
     "output_type": "stream",
     "text": [
      "    Id  Age Weight_kgs  m0006  m0612  m1218  f0006  f0612  f1218 Firstname  \\\n",
      "0   Id  Age     Weight  m0006  m0612  m1218  f0006  f0612  f1218      Name   \n",
      "1    1   56         70     72     69     71      -      -      -     Micky   \n",
      "2    2   34         70      -      -      -     85     84     76    Donald   \n",
      "3    3   16        NaN      -      -      -     65     69     72      Mini   \n",
      "4    4  NaN         78     78     79     72      -      -      -   Scrooge   \n",
      "5    5   54         90      -      -      -     69    NaN     75      Pink   \n",
      "6    6   52         85      -      -      -     68     75     72      Huey   \n",
      "7    7   19         56      -      -      -     71     78     75     Dewey   \n",
      "8    8   32         78     78     76     75      -      -      -      Scpy   \n",
      "12  10   12         45      -      -      -     92     95     87     Louie   \n",
      "13  11  NaN         60     78     75     72      -      -      -     Henry   \n",
      "14  12   34        NaN     65     67     55      -      -      -    Michel   \n",
      "15  13  NaN        NaN      -      -      -     68     72     70      Tana   \n",
      "16  14  NaN        NaN    NaN    NaN    NaN    NaN    NaN    NaN  UniLever   \n",
      "17  15   52         81      -      -      -     68     75     72       NaN   \n",
      "\n",
      "   Lastname  \n",
      "0      None  \n",
      "1      Mous  \n",
      "2      Duck  \n",
      "3     Mouse  \n",
      "4    McDuck  \n",
      "5   Panther  \n",
      "6    McDuck  \n",
      "7    McDuck  \n",
      "8       Doo  \n",
      "12   McDuck  \n",
      "13      Nam  \n",
      "14     Long  \n",
      "15    Ricky  \n",
      "16     None  \n",
      "17      NaN  \n"
     ]
    },
    {
     "name": "stderr",
     "output_type": "stream",
     "text": [
      "C:\\Users\\Administrator\\AppData\\Local\\Temp\\ipykernel_15964\\1822382722.py:1: FutureWarning: A value is trying to be set on a copy of a DataFrame or Series through chained assignment using an inplace method.\n",
      "The behavior will change in pandas 3.0. This inplace method will never work because the intermediate object on which we are setting values always behaves as a copy.\n",
      "\n",
      "For example, when doing 'df[col].method(value, inplace=True)', try using 'df.method({col: value}, inplace=True)' or df[col] = df[col].method(value) instead, to perform the operation inplace on the original object.\n",
      "\n",
      "\n",
      "  df.Firstname.replace({r'[^\\x00-\\x7F]+':''},regex=True,inplace=True)\n",
      "C:\\Users\\Administrator\\AppData\\Local\\Temp\\ipykernel_15964\\1822382722.py:2: FutureWarning: A value is trying to be set on a copy of a DataFrame or Series through chained assignment using an inplace method.\n",
      "The behavior will change in pandas 3.0. This inplace method will never work because the intermediate object on which we are setting values always behaves as a copy.\n",
      "\n",
      "For example, when doing 'df[col].method(value, inplace=True)', try using 'df.method({col: value}, inplace=True)' or df[col] = df[col].method(value) instead, to perform the operation inplace on the original object.\n",
      "\n",
      "\n",
      "  df.Lastname.replace({r'[^\\x00-\\x7F]+':''},regex=True,inplace=True)\n"
     ]
    }
   ],
   "source": [
    "df.Firstname.replace({r'[^\\x00-\\x7F]+':''},regex=True,inplace=True)\n",
    "df.Lastname.replace({r'[^\\x00-\\x7F]+':''},regex=True,inplace=True)\n",
    "print(df)"
   ]
  },
  {
   "cell_type": "code",
   "execution_count": 13,
   "metadata": {},
   "outputs": [
    {
     "name": "stderr",
     "output_type": "stream",
     "text": [
      "C:\\Users\\Administrator\\AppData\\Local\\Temp\\ipykernel_15964\\1258158026.py:1: FutureWarning: A value is trying to be set on a copy of a DataFrame or Series through chained assignment using an inplace method.\n",
      "The behavior will change in pandas 3.0. This inplace method will never work because the intermediate object on which we are setting values always behaves as a copy.\n",
      "\n",
      "For example, when doing 'df[col].method(value, inplace=True)', try using 'df.method({col: value}, inplace=True)' or df[col] = df[col].method(value) instead, to perform the operation inplace on the original object.\n",
      "\n",
      "\n",
      "  df['Age'].fillna(df['Age'].mode()[0], inplace=True)\n"
     ]
    }
   ],
   "source": [
    "df['Age'].fillna(df['Age'].mode()[0], inplace=True)"
   ]
  },
  {
   "cell_type": "code",
   "execution_count": 14,
   "metadata": {},
   "outputs": [
    {
     "name": "stdout",
     "output_type": "stream",
     "text": [
      "object\n"
     ]
    }
   ],
   "source": [
    "print(df['Weight_kgs'].dtype)\n"
   ]
  },
  {
   "cell_type": "code",
   "execution_count": 15,
   "metadata": {},
   "outputs": [
    {
     "name": "stdout",
     "output_type": "stream",
     "text": [
      "    Id  Age Weight_kgs  m0006  m0612  m1218  f0006  f0612  f1218 Firstname  \\\n",
      "0   Id  Age     Weight  m0006  m0612  m1218  f0006  f0612  f1218      Name   \n",
      "1    1   56         70     72     69     71      -      -      -     Micky   \n",
      "4    4   34         78     78     79     72      -      -      -   Scrooge   \n",
      "7    7   19         56      -      -      -     71     78     75     Dewey   \n",
      "8    8   32         78     78     76     75      -      -      -      Scpy   \n",
      "12  10   12         45      -      -      -     92     95     87     Louie   \n",
      "13  11   34         60     78     75     72      -      -      -     Henry   \n",
      "\n",
      "   Lastname  \n",
      "0      None  \n",
      "1      Mous  \n",
      "4    McDuck  \n",
      "7    McDuck  \n",
      "8       Doo  \n",
      "12   McDuck  \n",
      "13      Nam  \n"
     ]
    }
   ],
   "source": [
    "non_numeric_values = df[~df['Weight_kgs'].apply(lambda x: isinstance(x, (int, float)))]\n",
    "print(non_numeric_values)"
   ]
  },
  {
   "cell_type": "code",
   "execution_count": 16,
   "metadata": {},
   "outputs": [
    {
     "name": "stdout",
     "output_type": "stream",
     "text": [
      "float64\n"
     ]
    }
   ],
   "source": [
    "df['Weight_kgs'] = pd.to_numeric(df['Weight_kgs'], errors='coerce')\n",
    "\n",
    "# Kiểm tra lại kiểu dữ liệu\n",
    "print(df['Weight_kgs'].dtype)"
   ]
  },
  {
   "cell_type": "code",
   "execution_count": 17,
   "metadata": {},
   "outputs": [
    {
     "name": "stderr",
     "output_type": "stream",
     "text": [
      "C:\\Users\\Administrator\\AppData\\Local\\Temp\\ipykernel_15964\\2587249362.py:2: FutureWarning: A value is trying to be set on a copy of a DataFrame or Series through chained assignment using an inplace method.\n",
      "The behavior will change in pandas 3.0. This inplace method will never work because the intermediate object on which we are setting values always behaves as a copy.\n",
      "\n",
      "For example, when doing 'df[col].method(value, inplace=True)', try using 'df.method({col: value}, inplace=True)' or df[col] = df[col].method(value) instead, to perform the operation inplace on the original object.\n",
      "\n",
      "\n",
      "  df['Weight_kgs'].fillna(median_weight, inplace=True)\n"
     ]
    }
   ],
   "source": [
    "median_weight = df['Weight_kgs'].median()\n",
    "df['Weight_kgs'].fillna(median_weight, inplace=True)"
   ]
  },
  {
   "cell_type": "code",
   "execution_count": 18,
   "metadata": {},
   "outputs": [
    {
     "name": "stderr",
     "output_type": "stream",
     "text": [
      "C:\\Users\\Administrator\\AppData\\Local\\Temp\\ipykernel_15964\\1979542691.py:1: FutureWarning: A value is trying to be set on a copy of a DataFrame or Series through chained assignment using an inplace method.\n",
      "The behavior will change in pandas 3.0. This inplace method will never work because the intermediate object on which we are setting values always behaves as a copy.\n",
      "\n",
      "For example, when doing 'df[col].method(value, inplace=True)', try using 'df.method({col: value}, inplace=True)' or df[col] = df[col].method(value) instead, to perform the operation inplace on the original object.\n",
      "\n",
      "\n",
      "  df['Weight_kgs'].fillna(df['Weight_kgs'].median(), inplace=True)\n"
     ]
    }
   ],
   "source": [
    "df['Weight_kgs'].fillna(df['Weight_kgs'].median(), inplace=True)"
   ]
  },
  {
   "cell_type": "code",
   "execution_count": 19,
   "metadata": {},
   "outputs": [],
   "source": [
    "df = pd.melt(df, id_vars=['Id','Age','Weight_kgs','Firstname','Lastname'], value_name='PulseRate', var_name='gender_time').sort_values(['Id','Age','Weight_kgs','Firstname','Lastname'])"
   ]
  },
  {
   "cell_type": "code",
   "execution_count": 20,
   "metadata": {},
   "outputs": [
    {
     "name": "stderr",
     "output_type": "stream",
     "text": [
      "<>:1: SyntaxWarning: invalid escape sequence '\\D'\n",
      "<>:1: SyntaxWarning: invalid escape sequence '\\D'\n",
      "C:\\Users\\Administrator\\AppData\\Local\\Temp\\ipykernel_15964\\394222301.py:1: SyntaxWarning: invalid escape sequence '\\D'\n",
      "  df_temp = df['gender_time'].str.extract(\"(\\D)(\\d+)(\\d{2})\", expand=True)\n"
     ]
    }
   ],
   "source": [
    "df_temp = df['gender_time'].str.extract(\"(\\D)(\\d+)(\\d{2})\", expand=True)"
   ]
  },
  {
   "cell_type": "code",
   "execution_count": 21,
   "metadata": {},
   "outputs": [],
   "source": [
    "df_temp.columns = ['Gender','Lower_hour','Upper_hour']"
   ]
  },
  {
   "cell_type": "code",
   "execution_count": 22,
   "metadata": {},
   "outputs": [],
   "source": [
    "df = pd.concat([df,df_temp], axis=1)"
   ]
  },
  {
   "cell_type": "code",
   "execution_count": 23,
   "metadata": {},
   "outputs": [],
   "source": [
    "df = df.drop(['gender_time'], axis=1)"
   ]
  },
  {
   "cell_type": "code",
   "execution_count": 24,
   "metadata": {},
   "outputs": [],
   "source": [
    "import numpy as np"
   ]
  },
  {
   "cell_type": "code",
   "execution_count": 25,
   "metadata": {},
   "outputs": [
    {
     "data": {
      "text/html": [
       "<div>\n",
       "<style scoped>\n",
       "    .dataframe tbody tr th:only-of-type {\n",
       "        vertical-align: middle;\n",
       "    }\n",
       "\n",
       "    .dataframe tbody tr th {\n",
       "        vertical-align: top;\n",
       "    }\n",
       "\n",
       "    .dataframe thead th {\n",
       "        text-align: right;\n",
       "    }\n",
       "</style>\n",
       "<table border=\"1\" class=\"dataframe\">\n",
       "  <thead>\n",
       "    <tr style=\"text-align: right;\">\n",
       "      <th></th>\n",
       "      <th>Id</th>\n",
       "      <th>Age</th>\n",
       "      <th>Weight_kgs</th>\n",
       "      <th>Firstname</th>\n",
       "      <th>Lastname</th>\n",
       "      <th>PulseRate</th>\n",
       "      <th>Gender</th>\n",
       "      <th>Lower_hour</th>\n",
       "      <th>Upper_hour</th>\n",
       "    </tr>\n",
       "  </thead>\n",
       "  <tbody>\n",
       "    <tr>\n",
       "      <th>1</th>\n",
       "      <td>1</td>\n",
       "      <td>56</td>\n",
       "      <td>70.0</td>\n",
       "      <td>Micky</td>\n",
       "      <td>Mous</td>\n",
       "      <td>72</td>\n",
       "      <td>m</td>\n",
       "      <td>00</td>\n",
       "      <td>06</td>\n",
       "    </tr>\n",
       "    <tr>\n",
       "      <th>16</th>\n",
       "      <td>1</td>\n",
       "      <td>56</td>\n",
       "      <td>70.0</td>\n",
       "      <td>Micky</td>\n",
       "      <td>Mous</td>\n",
       "      <td>69</td>\n",
       "      <td>m</td>\n",
       "      <td>06</td>\n",
       "      <td>12</td>\n",
       "    </tr>\n",
       "    <tr>\n",
       "      <th>31</th>\n",
       "      <td>1</td>\n",
       "      <td>56</td>\n",
       "      <td>70.0</td>\n",
       "      <td>Micky</td>\n",
       "      <td>Mous</td>\n",
       "      <td>71</td>\n",
       "      <td>m</td>\n",
       "      <td>12</td>\n",
       "      <td>18</td>\n",
       "    </tr>\n",
       "    <tr>\n",
       "      <th>54</th>\n",
       "      <td>10</td>\n",
       "      <td>12</td>\n",
       "      <td>45.0</td>\n",
       "      <td>Louie</td>\n",
       "      <td>McDuck</td>\n",
       "      <td>92</td>\n",
       "      <td>f</td>\n",
       "      <td>00</td>\n",
       "      <td>06</td>\n",
       "    </tr>\n",
       "    <tr>\n",
       "      <th>69</th>\n",
       "      <td>10</td>\n",
       "      <td>12</td>\n",
       "      <td>45.0</td>\n",
       "      <td>Louie</td>\n",
       "      <td>McDuck</td>\n",
       "      <td>95</td>\n",
       "      <td>f</td>\n",
       "      <td>06</td>\n",
       "      <td>12</td>\n",
       "    </tr>\n",
       "    <tr>\n",
       "      <th>84</th>\n",
       "      <td>10</td>\n",
       "      <td>12</td>\n",
       "      <td>45.0</td>\n",
       "      <td>Louie</td>\n",
       "      <td>McDuck</td>\n",
       "      <td>87</td>\n",
       "      <td>f</td>\n",
       "      <td>12</td>\n",
       "      <td>18</td>\n",
       "    </tr>\n",
       "    <tr>\n",
       "      <th>10</th>\n",
       "      <td>11</td>\n",
       "      <td>34</td>\n",
       "      <td>60.0</td>\n",
       "      <td>Henry</td>\n",
       "      <td>Nam</td>\n",
       "      <td>78</td>\n",
       "      <td>m</td>\n",
       "      <td>00</td>\n",
       "      <td>06</td>\n",
       "    </tr>\n",
       "    <tr>\n",
       "      <th>25</th>\n",
       "      <td>11</td>\n",
       "      <td>34</td>\n",
       "      <td>60.0</td>\n",
       "      <td>Henry</td>\n",
       "      <td>Nam</td>\n",
       "      <td>75</td>\n",
       "      <td>m</td>\n",
       "      <td>06</td>\n",
       "      <td>12</td>\n",
       "    </tr>\n",
       "    <tr>\n",
       "      <th>40</th>\n",
       "      <td>11</td>\n",
       "      <td>34</td>\n",
       "      <td>60.0</td>\n",
       "      <td>Henry</td>\n",
       "      <td>Nam</td>\n",
       "      <td>72</td>\n",
       "      <td>m</td>\n",
       "      <td>12</td>\n",
       "      <td>18</td>\n",
       "    </tr>\n",
       "    <tr>\n",
       "      <th>11</th>\n",
       "      <td>12</td>\n",
       "      <td>34</td>\n",
       "      <td>74.0</td>\n",
       "      <td>Michel</td>\n",
       "      <td>Long</td>\n",
       "      <td>65</td>\n",
       "      <td>m</td>\n",
       "      <td>00</td>\n",
       "      <td>06</td>\n",
       "    </tr>\n",
       "  </tbody>\n",
       "</table>\n",
       "</div>"
      ],
      "text/plain": [
       "    Id Age  Weight_kgs Firstname Lastname PulseRate Gender Lower_hour  \\\n",
       "1    1  56        70.0     Micky     Mous        72      m         00   \n",
       "16   1  56        70.0     Micky     Mous        69      m         06   \n",
       "31   1  56        70.0     Micky     Mous        71      m         12   \n",
       "54  10  12        45.0     Louie   McDuck        92      f         00   \n",
       "69  10  12        45.0     Louie   McDuck        95      f         06   \n",
       "84  10  12        45.0     Louie   McDuck        87      f         12   \n",
       "10  11  34        60.0     Henry      Nam        78      m         00   \n",
       "25  11  34        60.0     Henry      Nam        75      m         06   \n",
       "40  11  34        60.0     Henry      Nam        72      m         12   \n",
       "11  12  34        74.0    Michel     Long        65      m         00   \n",
       "\n",
       "   Upper_hour  \n",
       "1          06  \n",
       "16         12  \n",
       "31         18  \n",
       "54         06  \n",
       "69         12  \n",
       "84         18  \n",
       "10         06  \n",
       "25         12  \n",
       "40         18  \n",
       "11         06  "
      ]
     },
     "execution_count": 25,
     "metadata": {},
     "output_type": "execute_result"
    }
   ],
   "source": [
    "df = df.replace('-', np.nan).dropna(subset=['PulseRate'])\n",
    "df.head(10)"
   ]
  },
  {
   "cell_type": "code",
   "execution_count": 26,
   "metadata": {},
   "outputs": [
    {
     "data": {
      "text/plain": [
       "np.int64(3)"
      ]
     },
     "execution_count": 26,
     "metadata": {},
     "output_type": "execute_result"
    }
   ],
   "source": [
    "df['Firstname'].isnull().sum()"
   ]
  },
  {
   "cell_type": "code",
   "execution_count": 27,
   "metadata": {},
   "outputs": [
    {
     "data": {
      "text/plain": [
       "np.int64(9)"
      ]
     },
     "execution_count": 27,
     "metadata": {},
     "output_type": "execute_result"
    }
   ],
   "source": [
    "df['Lastname'].isnull().sum()"
   ]
  },
  {
   "cell_type": "code",
   "execution_count": 28,
   "metadata": {},
   "outputs": [
    {
     "name": "stderr",
     "output_type": "stream",
     "text": [
      "C:\\Users\\Administrator\\AppData\\Local\\Temp\\ipykernel_15964\\3736532249.py:1: FutureWarning: A value is trying to be set on a copy of a DataFrame or Series through chained assignment using an inplace method.\n",
      "The behavior will change in pandas 3.0. This inplace method will never work because the intermediate object on which we are setting values always behaves as a copy.\n",
      "\n",
      "For example, when doing 'df[col].method(value, inplace=True)', try using 'df.method({col: value}, inplace=True)' or df[col] = df[col].method(value) instead, to perform the operation inplace on the original object.\n",
      "\n",
      "\n",
      "  df['Firstname'].fillna('Unknown', inplace=True)\n"
     ]
    }
   ],
   "source": [
    "df['Firstname'].fillna('Unknown', inplace=True)"
   ]
  },
  {
   "cell_type": "code",
   "execution_count": 29,
   "metadata": {},
   "outputs": [
    {
     "name": "stderr",
     "output_type": "stream",
     "text": [
      "C:\\Users\\Administrator\\AppData\\Local\\Temp\\ipykernel_15964\\3198000358.py:1: FutureWarning: A value is trying to be set on a copy of a DataFrame or Series through chained assignment using an inplace method.\n",
      "The behavior will change in pandas 3.0. This inplace method will never work because the intermediate object on which we are setting values always behaves as a copy.\n",
      "\n",
      "For example, when doing 'df[col].method(value, inplace=True)', try using 'df.method({col: value}, inplace=True)' or df[col] = df[col].method(value) instead, to perform the operation inplace on the original object.\n",
      "\n",
      "\n",
      "  df['Lastname'].fillna('Unknown', inplace=True)\n"
     ]
    }
   ],
   "source": [
    "df['Lastname'].fillna('Unknown', inplace=True)"
   ]
  },
  {
   "cell_type": "code",
   "execution_count": 30,
   "metadata": {},
   "outputs": [],
   "source": [
    "df = df.reset_index()"
   ]
  },
  {
   "cell_type": "code",
   "execution_count": 31,
   "metadata": {},
   "outputs": [],
   "source": [
    "df.to_csv('patient_heart_rate_clean.csv')"
   ]
  },
  {
   "cell_type": "code",
   "execution_count": 32,
   "metadata": {},
   "outputs": [
    {
     "data": {
      "text/html": [
       "<div>\n",
       "<style scoped>\n",
       "    .dataframe tbody tr th:only-of-type {\n",
       "        vertical-align: middle;\n",
       "    }\n",
       "\n",
       "    .dataframe tbody tr th {\n",
       "        vertical-align: top;\n",
       "    }\n",
       "\n",
       "    .dataframe thead th {\n",
       "        text-align: right;\n",
       "    }\n",
       "</style>\n",
       "<table border=\"1\" class=\"dataframe\">\n",
       "  <thead>\n",
       "    <tr style=\"text-align: right;\">\n",
       "      <th></th>\n",
       "      <th>index</th>\n",
       "      <th>Id</th>\n",
       "      <th>Age</th>\n",
       "      <th>Weight_kgs</th>\n",
       "      <th>Firstname</th>\n",
       "      <th>Lastname</th>\n",
       "      <th>PulseRate</th>\n",
       "      <th>Gender</th>\n",
       "      <th>Lower_hour</th>\n",
       "      <th>Upper_hour</th>\n",
       "    </tr>\n",
       "  </thead>\n",
       "  <tbody>\n",
       "    <tr>\n",
       "      <th>0</th>\n",
       "      <td>1</td>\n",
       "      <td>1</td>\n",
       "      <td>56</td>\n",
       "      <td>70.0</td>\n",
       "      <td>Micky</td>\n",
       "      <td>Mous</td>\n",
       "      <td>72</td>\n",
       "      <td>m</td>\n",
       "      <td>00</td>\n",
       "      <td>06</td>\n",
       "    </tr>\n",
       "    <tr>\n",
       "      <th>1</th>\n",
       "      <td>16</td>\n",
       "      <td>1</td>\n",
       "      <td>56</td>\n",
       "      <td>70.0</td>\n",
       "      <td>Micky</td>\n",
       "      <td>Mous</td>\n",
       "      <td>69</td>\n",
       "      <td>m</td>\n",
       "      <td>06</td>\n",
       "      <td>12</td>\n",
       "    </tr>\n",
       "    <tr>\n",
       "      <th>2</th>\n",
       "      <td>31</td>\n",
       "      <td>1</td>\n",
       "      <td>56</td>\n",
       "      <td>70.0</td>\n",
       "      <td>Micky</td>\n",
       "      <td>Mous</td>\n",
       "      <td>71</td>\n",
       "      <td>m</td>\n",
       "      <td>12</td>\n",
       "      <td>18</td>\n",
       "    </tr>\n",
       "    <tr>\n",
       "      <th>3</th>\n",
       "      <td>54</td>\n",
       "      <td>10</td>\n",
       "      <td>12</td>\n",
       "      <td>45.0</td>\n",
       "      <td>Louie</td>\n",
       "      <td>McDuck</td>\n",
       "      <td>92</td>\n",
       "      <td>f</td>\n",
       "      <td>00</td>\n",
       "      <td>06</td>\n",
       "    </tr>\n",
       "    <tr>\n",
       "      <th>4</th>\n",
       "      <td>69</td>\n",
       "      <td>10</td>\n",
       "      <td>12</td>\n",
       "      <td>45.0</td>\n",
       "      <td>Louie</td>\n",
       "      <td>McDuck</td>\n",
       "      <td>95</td>\n",
       "      <td>f</td>\n",
       "      <td>06</td>\n",
       "      <td>12</td>\n",
       "    </tr>\n",
       "  </tbody>\n",
       "</table>\n",
       "</div>"
      ],
      "text/plain": [
       "   index  Id Age  Weight_kgs Firstname Lastname PulseRate Gender Lower_hour  \\\n",
       "0      1   1  56        70.0     Micky     Mous        72      m         00   \n",
       "1     16   1  56        70.0     Micky     Mous        69      m         06   \n",
       "2     31   1  56        70.0     Micky     Mous        71      m         12   \n",
       "3     54  10  12        45.0     Louie   McDuck        92      f         00   \n",
       "4     69  10  12        45.0     Louie   McDuck        95      f         06   \n",
       "\n",
       "  Upper_hour  \n",
       "0         06  \n",
       "1         12  \n",
       "2         18  \n",
       "3         06  \n",
       "4         12  "
      ]
     },
     "execution_count": 32,
     "metadata": {},
     "output_type": "execute_result"
    }
   ],
   "source": [
    "# Cau 1: Vẽ biểu đồ Pie để thể hiện tỉ lệ bệnh nhân nam và nữ\n",
    "df.head(5)"
   ]
  },
  {
   "cell_type": "code",
   "execution_count": 33,
   "metadata": {},
   "outputs": [
    {
     "data": {
      "text/html": [
       "<div>\n",
       "<style scoped>\n",
       "    .dataframe tbody tr th:only-of-type {\n",
       "        vertical-align: middle;\n",
       "    }\n",
       "\n",
       "    .dataframe tbody tr th {\n",
       "        vertical-align: top;\n",
       "    }\n",
       "\n",
       "    .dataframe thead th {\n",
       "        text-align: right;\n",
       "    }\n",
       "</style>\n",
       "<table border=\"1\" class=\"dataframe\">\n",
       "  <thead>\n",
       "    <tr style=\"text-align: right;\">\n",
       "      <th></th>\n",
       "      <th>Unnamed: 0</th>\n",
       "      <th>index</th>\n",
       "      <th>Id</th>\n",
       "      <th>Age</th>\n",
       "      <th>Weight_kgs</th>\n",
       "      <th>Firstname</th>\n",
       "      <th>Lastname</th>\n",
       "      <th>PulseRate</th>\n",
       "      <th>Gender</th>\n",
       "      <th>Lower_hour</th>\n",
       "      <th>Upper_hour</th>\n",
       "    </tr>\n",
       "  </thead>\n",
       "  <tbody>\n",
       "    <tr>\n",
       "      <th>0</th>\n",
       "      <td>0</td>\n",
       "      <td>1</td>\n",
       "      <td>1</td>\n",
       "      <td>56</td>\n",
       "      <td>70.0</td>\n",
       "      <td>Micky</td>\n",
       "      <td>Mous</td>\n",
       "      <td>72</td>\n",
       "      <td>m</td>\n",
       "      <td>0</td>\n",
       "      <td>6</td>\n",
       "    </tr>\n",
       "    <tr>\n",
       "      <th>1</th>\n",
       "      <td>1</td>\n",
       "      <td>16</td>\n",
       "      <td>1</td>\n",
       "      <td>56</td>\n",
       "      <td>70.0</td>\n",
       "      <td>Micky</td>\n",
       "      <td>Mous</td>\n",
       "      <td>69</td>\n",
       "      <td>m</td>\n",
       "      <td>6</td>\n",
       "      <td>12</td>\n",
       "    </tr>\n",
       "    <tr>\n",
       "      <th>2</th>\n",
       "      <td>2</td>\n",
       "      <td>31</td>\n",
       "      <td>1</td>\n",
       "      <td>56</td>\n",
       "      <td>70.0</td>\n",
       "      <td>Micky</td>\n",
       "      <td>Mous</td>\n",
       "      <td>71</td>\n",
       "      <td>m</td>\n",
       "      <td>12</td>\n",
       "      <td>18</td>\n",
       "    </tr>\n",
       "    <tr>\n",
       "      <th>3</th>\n",
       "      <td>3</td>\n",
       "      <td>54</td>\n",
       "      <td>10</td>\n",
       "      <td>12</td>\n",
       "      <td>45.0</td>\n",
       "      <td>Louie</td>\n",
       "      <td>McDuck</td>\n",
       "      <td>92</td>\n",
       "      <td>f</td>\n",
       "      <td>0</td>\n",
       "      <td>6</td>\n",
       "    </tr>\n",
       "    <tr>\n",
       "      <th>4</th>\n",
       "      <td>4</td>\n",
       "      <td>69</td>\n",
       "      <td>10</td>\n",
       "      <td>12</td>\n",
       "      <td>45.0</td>\n",
       "      <td>Louie</td>\n",
       "      <td>McDuck</td>\n",
       "      <td>95</td>\n",
       "      <td>f</td>\n",
       "      <td>6</td>\n",
       "      <td>12</td>\n",
       "    </tr>\n",
       "  </tbody>\n",
       "</table>\n",
       "</div>"
      ],
      "text/plain": [
       "   Unnamed: 0  index  Id Age  Weight_kgs Firstname Lastname PulseRate Gender  \\\n",
       "0           0      1   1  56        70.0     Micky     Mous        72      m   \n",
       "1           1     16   1  56        70.0     Micky     Mous        69      m   \n",
       "2           2     31   1  56        70.0     Micky     Mous        71      m   \n",
       "3           3     54  10  12        45.0     Louie   McDuck        92      f   \n",
       "4           4     69  10  12        45.0     Louie   McDuck        95      f   \n",
       "\n",
       "   Lower_hour  Upper_hour  \n",
       "0           0           6  \n",
       "1           6          12  \n",
       "2          12          18  \n",
       "3           0           6  \n",
       "4           6          12  "
      ]
     },
     "execution_count": 33,
     "metadata": {},
     "output_type": "execute_result"
    }
   ],
   "source": [
    "df = pd.read_csv('patient_heart_rate_clean.csv')\n",
    "df.head(5)"
   ]
  },
  {
   "cell_type": "code",
   "execution_count": 34,
   "metadata": {},
   "outputs": [],
   "source": [
    "gender_counts = df['Gender'].value_counts()"
   ]
  },
  {
   "cell_type": "code",
   "execution_count": 35,
   "metadata": {},
   "outputs": [
    {
     "data": {
      "image/png": "[encoded data removed]",
      "text/plain": [
       "<Figure size 800x800 with 1 Axes>"
      ]
     },
     "metadata": {},
     "output_type": "display_data"
    }
   ],
   "source": [
    "import matplotlib.pyplot as plt\n",
    "plt.figure(figsize=(8, 8))\n",
    "plt.pie(gender_counts, labels=gender_counts.index, autopct='%1.1f%%', startangle=140, colors=['#ff9999','#66b3ff'])\n",
    "\n",
    "# Thêm tiêu đề\n",
    "plt.title('Tỉ lệ bệnh nhân nam và nữ')\n",
    "\n",
    "# Hiển thị biểu đồ\n",
    "plt.show()"
   ]
  },
  {
   "cell_type": "code",
   "execution_count": 36,
   "metadata": {},
   "outputs": [],
   "source": [
    "df = pd.read_csv('patient_heart_rate_clean.csv')"
   ]
  },
  {
   "cell_type": "code",
   "execution_count": 37,
   "metadata": {},
   "outputs": [
    {
     "data": {
      "text/html": [
       "<div>\n",
       "<style scoped>\n",
       "    .dataframe tbody tr th:only-of-type {\n",
       "        vertical-align: middle;\n",
       "    }\n",
       "\n",
       "    .dataframe tbody tr th {\n",
       "        vertical-align: top;\n",
       "    }\n",
       "\n",
       "    .dataframe thead th {\n",
       "        text-align: right;\n",
       "    }\n",
       "</style>\n",
       "<table border=\"1\" class=\"dataframe\">\n",
       "  <thead>\n",
       "    <tr style=\"text-align: right;\">\n",
       "      <th></th>\n",
       "      <th>Unnamed: 0</th>\n",
       "      <th>index</th>\n",
       "      <th>Id</th>\n",
       "      <th>Age</th>\n",
       "      <th>Weight_kgs</th>\n",
       "      <th>Firstname</th>\n",
       "      <th>Lastname</th>\n",
       "      <th>PulseRate</th>\n",
       "      <th>Gender</th>\n",
       "      <th>Lower_hour</th>\n",
       "      <th>Upper_hour</th>\n",
       "    </tr>\n",
       "  </thead>\n",
       "  <tbody>\n",
       "    <tr>\n",
       "      <th>0</th>\n",
       "      <td>0</td>\n",
       "      <td>1</td>\n",
       "      <td>1</td>\n",
       "      <td>56</td>\n",
       "      <td>70.0</td>\n",
       "      <td>Micky</td>\n",
       "      <td>Mous</td>\n",
       "      <td>72</td>\n",
       "      <td>m</td>\n",
       "      <td>0</td>\n",
       "      <td>6</td>\n",
       "    </tr>\n",
       "    <tr>\n",
       "      <th>1</th>\n",
       "      <td>1</td>\n",
       "      <td>16</td>\n",
       "      <td>1</td>\n",
       "      <td>56</td>\n",
       "      <td>70.0</td>\n",
       "      <td>Micky</td>\n",
       "      <td>Mous</td>\n",
       "      <td>69</td>\n",
       "      <td>m</td>\n",
       "      <td>6</td>\n",
       "      <td>12</td>\n",
       "    </tr>\n",
       "    <tr>\n",
       "      <th>2</th>\n",
       "      <td>2</td>\n",
       "      <td>31</td>\n",
       "      <td>1</td>\n",
       "      <td>56</td>\n",
       "      <td>70.0</td>\n",
       "      <td>Micky</td>\n",
       "      <td>Mous</td>\n",
       "      <td>71</td>\n",
       "      <td>m</td>\n",
       "      <td>12</td>\n",
       "      <td>18</td>\n",
       "    </tr>\n",
       "    <tr>\n",
       "      <th>3</th>\n",
       "      <td>3</td>\n",
       "      <td>54</td>\n",
       "      <td>10</td>\n",
       "      <td>12</td>\n",
       "      <td>45.0</td>\n",
       "      <td>Louie</td>\n",
       "      <td>McDuck</td>\n",
       "      <td>92</td>\n",
       "      <td>f</td>\n",
       "      <td>0</td>\n",
       "      <td>6</td>\n",
       "    </tr>\n",
       "    <tr>\n",
       "      <th>4</th>\n",
       "      <td>4</td>\n",
       "      <td>69</td>\n",
       "      <td>10</td>\n",
       "      <td>12</td>\n",
       "      <td>45.0</td>\n",
       "      <td>Louie</td>\n",
       "      <td>McDuck</td>\n",
       "      <td>95</td>\n",
       "      <td>f</td>\n",
       "      <td>6</td>\n",
       "      <td>12</td>\n",
       "    </tr>\n",
       "    <tr>\n",
       "      <th>5</th>\n",
       "      <td>5</td>\n",
       "      <td>84</td>\n",
       "      <td>10</td>\n",
       "      <td>12</td>\n",
       "      <td>45.0</td>\n",
       "      <td>Louie</td>\n",
       "      <td>McDuck</td>\n",
       "      <td>87</td>\n",
       "      <td>f</td>\n",
       "      <td>12</td>\n",
       "      <td>18</td>\n",
       "    </tr>\n",
       "    <tr>\n",
       "      <th>6</th>\n",
       "      <td>6</td>\n",
       "      <td>10</td>\n",
       "      <td>11</td>\n",
       "      <td>34</td>\n",
       "      <td>60.0</td>\n",
       "      <td>Henry</td>\n",
       "      <td>Nam</td>\n",
       "      <td>78</td>\n",
       "      <td>m</td>\n",
       "      <td>0</td>\n",
       "      <td>6</td>\n",
       "    </tr>\n",
       "    <tr>\n",
       "      <th>7</th>\n",
       "      <td>7</td>\n",
       "      <td>25</td>\n",
       "      <td>11</td>\n",
       "      <td>34</td>\n",
       "      <td>60.0</td>\n",
       "      <td>Henry</td>\n",
       "      <td>Nam</td>\n",
       "      <td>75</td>\n",
       "      <td>m</td>\n",
       "      <td>6</td>\n",
       "      <td>12</td>\n",
       "    </tr>\n",
       "    <tr>\n",
       "      <th>8</th>\n",
       "      <td>8</td>\n",
       "      <td>40</td>\n",
       "      <td>11</td>\n",
       "      <td>34</td>\n",
       "      <td>60.0</td>\n",
       "      <td>Henry</td>\n",
       "      <td>Nam</td>\n",
       "      <td>72</td>\n",
       "      <td>m</td>\n",
       "      <td>12</td>\n",
       "      <td>18</td>\n",
       "    </tr>\n",
       "    <tr>\n",
       "      <th>9</th>\n",
       "      <td>9</td>\n",
       "      <td>11</td>\n",
       "      <td>12</td>\n",
       "      <td>34</td>\n",
       "      <td>74.0</td>\n",
       "      <td>Michel</td>\n",
       "      <td>Long</td>\n",
       "      <td>65</td>\n",
       "      <td>m</td>\n",
       "      <td>0</td>\n",
       "      <td>6</td>\n",
       "    </tr>\n",
       "  </tbody>\n",
       "</table>\n",
       "</div>"
      ],
      "text/plain": [
       "   Unnamed: 0  index  Id Age  Weight_kgs Firstname Lastname PulseRate Gender  \\\n",
       "0           0      1   1  56        70.0     Micky     Mous        72      m   \n",
       "1           1     16   1  56        70.0     Micky     Mous        69      m   \n",
       "2           2     31   1  56        70.0     Micky     Mous        71      m   \n",
       "3           3     54  10  12        45.0     Louie   McDuck        92      f   \n",
       "4           4     69  10  12        45.0     Louie   McDuck        95      f   \n",
       "5           5     84  10  12        45.0     Louie   McDuck        87      f   \n",
       "6           6     10  11  34        60.0     Henry      Nam        78      m   \n",
       "7           7     25  11  34        60.0     Henry      Nam        75      m   \n",
       "8           8     40  11  34        60.0     Henry      Nam        72      m   \n",
       "9           9     11  12  34        74.0    Michel     Long        65      m   \n",
       "\n",
       "   Lower_hour  Upper_hour  \n",
       "0           0           6  \n",
       "1           6          12  \n",
       "2          12          18  \n",
       "3           0           6  \n",
       "4           6          12  \n",
       "5          12          18  \n",
       "6           0           6  \n",
       "7           6          12  \n",
       "8          12          18  \n",
       "9           0           6  "
      ]
     },
     "execution_count": 37,
     "metadata": {},
     "output_type": "execute_result"
    }
   ],
   "source": [
    "df.head(10)"
   ]
  },
  {
   "cell_type": "code",
   "execution_count": 38,
   "metadata": {},
   "outputs": [],
   "source": [
    "df['Fullname'] = df['Firstname'] + ' ' + df['Lastname']"
   ]
  },
  {
   "cell_type": "code",
   "execution_count": 39,
   "metadata": {},
   "outputs": [
    {
     "data": {
      "text/html": [
       "<div>\n",
       "<style scoped>\n",
       "    .dataframe tbody tr th:only-of-type {\n",
       "        vertical-align: middle;\n",
       "    }\n",
       "\n",
       "    .dataframe tbody tr th {\n",
       "        vertical-align: top;\n",
       "    }\n",
       "\n",
       "    .dataframe thead th {\n",
       "        text-align: right;\n",
       "    }\n",
       "</style>\n",
       "<table border=\"1\" class=\"dataframe\">\n",
       "  <thead>\n",
       "    <tr style=\"text-align: right;\">\n",
       "      <th></th>\n",
       "      <th>Unnamed: 0</th>\n",
       "      <th>index</th>\n",
       "      <th>Id</th>\n",
       "      <th>Age</th>\n",
       "      <th>Weight_kgs</th>\n",
       "      <th>Firstname</th>\n",
       "      <th>Lastname</th>\n",
       "      <th>PulseRate</th>\n",
       "      <th>Gender</th>\n",
       "      <th>Lower_hour</th>\n",
       "      <th>Upper_hour</th>\n",
       "      <th>Fullname</th>\n",
       "    </tr>\n",
       "  </thead>\n",
       "  <tbody>\n",
       "    <tr>\n",
       "      <th>0</th>\n",
       "      <td>0</td>\n",
       "      <td>1</td>\n",
       "      <td>1</td>\n",
       "      <td>56</td>\n",
       "      <td>70.0</td>\n",
       "      <td>Micky</td>\n",
       "      <td>Mous</td>\n",
       "      <td>72</td>\n",
       "      <td>m</td>\n",
       "      <td>0</td>\n",
       "      <td>6</td>\n",
       "      <td>Micky Mous</td>\n",
       "    </tr>\n",
       "    <tr>\n",
       "      <th>1</th>\n",
       "      <td>1</td>\n",
       "      <td>16</td>\n",
       "      <td>1</td>\n",
       "      <td>56</td>\n",
       "      <td>70.0</td>\n",
       "      <td>Micky</td>\n",
       "      <td>Mous</td>\n",
       "      <td>69</td>\n",
       "      <td>m</td>\n",
       "      <td>6</td>\n",
       "      <td>12</td>\n",
       "      <td>Micky Mous</td>\n",
       "    </tr>\n",
       "    <tr>\n",
       "      <th>2</th>\n",
       "      <td>2</td>\n",
       "      <td>31</td>\n",
       "      <td>1</td>\n",
       "      <td>56</td>\n",
       "      <td>70.0</td>\n",
       "      <td>Micky</td>\n",
       "      <td>Mous</td>\n",
       "      <td>71</td>\n",
       "      <td>m</td>\n",
       "      <td>12</td>\n",
       "      <td>18</td>\n",
       "      <td>Micky Mous</td>\n",
       "    </tr>\n",
       "    <tr>\n",
       "      <th>3</th>\n",
       "      <td>3</td>\n",
       "      <td>54</td>\n",
       "      <td>10</td>\n",
       "      <td>12</td>\n",
       "      <td>45.0</td>\n",
       "      <td>Louie</td>\n",
       "      <td>McDuck</td>\n",
       "      <td>92</td>\n",
       "      <td>f</td>\n",
       "      <td>0</td>\n",
       "      <td>6</td>\n",
       "      <td>Louie McDuck</td>\n",
       "    </tr>\n",
       "    <tr>\n",
       "      <th>4</th>\n",
       "      <td>4</td>\n",
       "      <td>69</td>\n",
       "      <td>10</td>\n",
       "      <td>12</td>\n",
       "      <td>45.0</td>\n",
       "      <td>Louie</td>\n",
       "      <td>McDuck</td>\n",
       "      <td>95</td>\n",
       "      <td>f</td>\n",
       "      <td>6</td>\n",
       "      <td>12</td>\n",
       "      <td>Louie McDuck</td>\n",
       "    </tr>\n",
       "    <tr>\n",
       "      <th>5</th>\n",
       "      <td>5</td>\n",
       "      <td>84</td>\n",
       "      <td>10</td>\n",
       "      <td>12</td>\n",
       "      <td>45.0</td>\n",
       "      <td>Louie</td>\n",
       "      <td>McDuck</td>\n",
       "      <td>87</td>\n",
       "      <td>f</td>\n",
       "      <td>12</td>\n",
       "      <td>18</td>\n",
       "      <td>Louie McDuck</td>\n",
       "    </tr>\n",
       "    <tr>\n",
       "      <th>6</th>\n",
       "      <td>6</td>\n",
       "      <td>10</td>\n",
       "      <td>11</td>\n",
       "      <td>34</td>\n",
       "      <td>60.0</td>\n",
       "      <td>Henry</td>\n",
       "      <td>Nam</td>\n",
       "      <td>78</td>\n",
       "      <td>m</td>\n",
       "      <td>0</td>\n",
       "      <td>6</td>\n",
       "      <td>Henry Nam</td>\n",
       "    </tr>\n",
       "    <tr>\n",
       "      <th>7</th>\n",
       "      <td>7</td>\n",
       "      <td>25</td>\n",
       "      <td>11</td>\n",
       "      <td>34</td>\n",
       "      <td>60.0</td>\n",
       "      <td>Henry</td>\n",
       "      <td>Nam</td>\n",
       "      <td>75</td>\n",
       "      <td>m</td>\n",
       "      <td>6</td>\n",
       "      <td>12</td>\n",
       "      <td>Henry Nam</td>\n",
       "    </tr>\n",
       "    <tr>\n",
       "      <th>8</th>\n",
       "      <td>8</td>\n",
       "      <td>40</td>\n",
       "      <td>11</td>\n",
       "      <td>34</td>\n",
       "      <td>60.0</td>\n",
       "      <td>Henry</td>\n",
       "      <td>Nam</td>\n",
       "      <td>72</td>\n",
       "      <td>m</td>\n",
       "      <td>12</td>\n",
       "      <td>18</td>\n",
       "      <td>Henry Nam</td>\n",
       "    </tr>\n",
       "    <tr>\n",
       "      <th>9</th>\n",
       "      <td>9</td>\n",
       "      <td>11</td>\n",
       "      <td>12</td>\n",
       "      <td>34</td>\n",
       "      <td>74.0</td>\n",
       "      <td>Michel</td>\n",
       "      <td>Long</td>\n",
       "      <td>65</td>\n",
       "      <td>m</td>\n",
       "      <td>0</td>\n",
       "      <td>6</td>\n",
       "      <td>Michel Long</td>\n",
       "    </tr>\n",
       "  </tbody>\n",
       "</table>\n",
       "</div>"
      ],
      "text/plain": [
       "   Unnamed: 0  index  Id Age  Weight_kgs Firstname Lastname PulseRate Gender  \\\n",
       "0           0      1   1  56        70.0     Micky     Mous        72      m   \n",
       "1           1     16   1  56        70.0     Micky     Mous        69      m   \n",
       "2           2     31   1  56        70.0     Micky     Mous        71      m   \n",
       "3           3     54  10  12        45.0     Louie   McDuck        92      f   \n",
       "4           4     69  10  12        45.0     Louie   McDuck        95      f   \n",
       "5           5     84  10  12        45.0     Louie   McDuck        87      f   \n",
       "6           6     10  11  34        60.0     Henry      Nam        78      m   \n",
       "7           7     25  11  34        60.0     Henry      Nam        75      m   \n",
       "8           8     40  11  34        60.0     Henry      Nam        72      m   \n",
       "9           9     11  12  34        74.0    Michel     Long        65      m   \n",
       "\n",
       "   Lower_hour  Upper_hour      Fullname  \n",
       "0           0           6    Micky Mous  \n",
       "1           6          12    Micky Mous  \n",
       "2          12          18    Micky Mous  \n",
       "3           0           6  Louie McDuck  \n",
       "4           6          12  Louie McDuck  \n",
       "5          12          18  Louie McDuck  \n",
       "6           0           6     Henry Nam  \n",
       "7           6          12     Henry Nam  \n",
       "8          12          18     Henry Nam  \n",
       "9           0           6   Michel Long  "
      ]
     },
     "execution_count": 39,
     "metadata": {},
     "output_type": "execute_result"
    }
   ],
   "source": [
    "df.head(10)"
   ]
  },
  {
   "cell_type": "code",
   "execution_count": 40,
   "metadata": {},
   "outputs": [],
   "source": [
    "#Cau 3:Vẽ biểu đồ cột so sánh độ tuổi giữa các tên bệnh nhân"
   ]
  },
  {
   "cell_type": "code",
   "execution_count": 41,
   "metadata": {},
   "outputs": [],
   "source": [
    "df['Fullname'] = df['Firstname'] + ' ' + df['Lastname']"
   ]
  },
  {
   "cell_type": "code",
   "execution_count": 42,
   "metadata": {},
   "outputs": [],
   "source": [
    "df['Age'] = pd.to_numeric(df['Age'], errors='coerce')\n",
    "df_cleaned = df[['Fullname', 'Age']].dropna().drop_duplicates()"
   ]
  },
  {
   "cell_type": "code",
   "execution_count": 43,
   "metadata": {},
   "outputs": [],
   "source": [
    "df_unique = df[['Fullname', 'Age']].drop_duplicates()"
   ]
  },
  {
   "cell_type": "code",
   "execution_count": 44,
   "metadata": {},
   "outputs": [
    {
     "data": {
      "image/png": "[encoded data removed]",
      "text/plain": [
       "<Figure size 1000x600 with 1 Axes>"
      ]
     },
     "metadata": {},
     "output_type": "display_data"
    }
   ],
   "source": [
    "import matplotlib.pyplot as plt\n",
    "if df_cleaned.empty:\n",
    "    print(\"Error: No valid data to plot after cleaning. Please check your input data.\")\n",
    "else:\n",
    "    # Plotting the bar chart\n",
    "    plt.figure(figsize=(10, 6))\n",
    "    plt.bar(df_cleaned['Fullname'], df_cleaned['Age'], color='skyblue')\n",
    "    plt.xlabel('Patient Name')\n",
    "    plt.ylabel('Age')\n",
    "    plt.title('Comparison of Ages Among Patients')\n",
    "    plt.xticks(rotation=45, ha='right')\n",
    "    plt.tight_layout()\n",
    "\n",
    "    # Show the plot\n",
    "    plt.show()"
   ]
  },
  {
   "cell_type": "code",
   "execution_count": 45,
   "metadata": {},
   "outputs": [],
   "source": [
    "# Cau 4: Vẽ biểu đồ cột so sánh nhịp tim trung bình giữa các tên bệnh nhân"
   ]
  },
  {
   "cell_type": "code",
   "execution_count": 46,
   "metadata": {},
   "outputs": [],
   "source": [
    "df['Fullname'] = df['Firstname'] + ' ' + df['Lastname']"
   ]
  },
  {
   "cell_type": "code",
   "execution_count": 47,
   "metadata": {},
   "outputs": [],
   "source": [
    "df['PulseRate'] = pd.to_numeric(df['PulseRate'], errors='coerce')"
   ]
  },
  {
   "cell_type": "code",
   "execution_count": 48,
   "metadata": {},
   "outputs": [],
   "source": [
    "avg_pulse_rate = df.groupby('Fullname')['PulseRate'].mean().reset_index()"
   ]
  },
  {
   "cell_type": "code",
   "execution_count": 49,
   "metadata": {},
   "outputs": [
    {
     "data": {
      "image/png": "[encoded data removed]",
      "text/plain": [
       "<Figure size 1000x600 with 1 Axes>"
      ]
     },
     "metadata": {},
     "output_type": "display_data"
    }
   ],
   "source": [
    "if avg_pulse_rate.empty:\n",
    "    print(\"Error: No valid data to plot. Please check your input data.\")\n",
    "else:\n",
    "    # Plotting the bar chart for average PulseRate\n",
    "    plt.figure(figsize=(10, 6))\n",
    "    plt.bar(avg_pulse_rate['Fullname'], avg_pulse_rate['PulseRate'], color='skyblue')\n",
    "    plt.xlabel('Patient Name')\n",
    "    plt.ylabel('Average Pulse Rate')\n",
    "    plt.title('Comparison of Average Pulse Rate Among Patients')\n",
    "    plt.xticks(rotation=45, ha='right')\n",
    "    plt.tight_layout()\n",
    "\n",
    "    # Show the plot\n",
    "    plt.show()"
   ]
  },
  {
   "cell_type": "code",
   "execution_count": 50,
   "metadata": {},
   "outputs": [],
   "source": [
    "#Cau 5:Vẽ biểu đồ cột so sánh nhịp tim trung bình theo từng nhóm giờ 00-06, 06-12,12-18 có phân loại theo giới tính"
   ]
  },
  {
   "cell_type": "code",
   "execution_count": 51,
   "metadata": {},
   "outputs": [],
   "source": [
    "df['PulseRate'] = pd.to_numeric(df['PulseRate'], errors='coerce')"
   ]
  },
  {
   "cell_type": "code",
   "execution_count": 52,
   "metadata": {},
   "outputs": [],
   "source": [
    "time_gender_pulse = df.groupby(['Lower_hour', 'Gender'])['PulseRate'].mean().reset_index()"
   ]
  },
  {
   "cell_type": "code",
   "execution_count": 53,
   "metadata": {},
   "outputs": [],
   "source": [
    "time_labels = {0: '00-06', 6: '06-12', 12: '12-18'}"
   ]
  },
  {
   "cell_type": "code",
   "execution_count": 54,
   "metadata": {},
   "outputs": [],
   "source": [
    "time_gender_pulse['Time Interval'] = time_gender_pulse['Lower_hour'].map(time_labels)"
   ]
  },
  {
   "cell_type": "code",
   "execution_count": 55,
   "metadata": {},
   "outputs": [],
   "source": [
    "pivot_df = time_gender_pulse.pivot(index='Time Interval', columns='Gender', values='PulseRate')"
   ]
  },
  {
   "cell_type": "code",
   "execution_count": 56,
   "metadata": {},
   "outputs": [
    {
     "data": {
      "image/png": "[encoded data removed]",
      "text/plain": [
       "<Figure size 1000x600 with 1 Axes>"
      ]
     },
     "metadata": {},
     "output_type": "display_data"
    }
   ],
   "source": [
    "pivot_df.plot(kind='bar', figsize=(10, 6), color=['skyblue', 'orange'])\n",
    "plt.xlabel('Time Interval')\n",
    "plt.ylabel('Average Pulse Rate')\n",
    "plt.title('Comparison of Average Pulse Rate by Time Interval and Gender')\n",
    "plt.xticks(rotation=0)\n",
    "plt.tight_layout()\n",
    "\n",
    "# Show the plot\n",
    "plt.show()"
   ]
  },
  {
   "cell_type": "code",
   "execution_count": 57,
   "metadata": {},
   "outputs": [],
   "source": [
    "#Cau 6: Vẽ biểu đồ phân tán thể hiện tương quan giữa trung bình độ tuổi và trung bình nhịp tim"
   ]
  },
  {
   "cell_type": "code",
   "execution_count": 58,
   "metadata": {},
   "outputs": [],
   "source": [
    "df['Age'] = pd.to_numeric(df['Age'], errors='coerce')\n",
    "df['PulseRate'] = pd.to_numeric(df['PulseRate'], errors='coerce')"
   ]
  },
  {
   "cell_type": "code",
   "execution_count": 59,
   "metadata": {},
   "outputs": [],
   "source": [
    "avg_stats = df.groupby('Id').agg({'Age': 'mean', 'PulseRate': 'mean'}).reset_index()"
   ]
  },
  {
   "cell_type": "code",
   "execution_count": 60,
   "metadata": {},
   "outputs": [
    {
     "data": {
      "image/png": "[encoded data removed]",
      "text/plain": [
       "<Figure size 1000x600 with 1 Axes>"
      ]
     },
     "metadata": {},
     "output_type": "display_data"
    }
   ],
   "source": [
    "if avg_stats.empty:\n",
    "    print(\"Error: No valid data to plot. Please check your input data.\")\n",
    "else:\n",
    "    # Plotting the scatter plot for average Age and average PulseRate\n",
    "    plt.figure(figsize=(10, 6))\n",
    "    plt.scatter(avg_stats['Age'], avg_stats['PulseRate'], color='skyblue', alpha=0.7)\n",
    "    plt.xlabel('Average Age')\n",
    "    plt.ylabel('Average Pulse Rate')\n",
    "    plt.title('Correlation Between Average Age and Average Pulse Rate')\n",
    "    plt.grid(True)\n",
    "\n",
    "    # Show the plot\n",
    "    plt.show()"
   ]
  },
  {
   "cell_type": "code",
   "execution_count": 61,
   "metadata": {},
   "outputs": [],
   "source": [
    "#Cau 7:Vẽ biểu đồ đường thể hiện sự thay đổi của nhịp tim trung bình các bệnh nhân theo thứ tự khung giờ 00-06, 06-12,12-18 theo từng nhóm giới tính."
   ]
  },
  {
   "cell_type": "code",
   "execution_count": 62,
   "metadata": {},
   "outputs": [],
   "source": [
    "df['PulseRate'] = pd.to_numeric(df['PulseRate'], errors='coerce')"
   ]
  },
  {
   "cell_type": "code",
   "execution_count": 63,
   "metadata": {},
   "outputs": [],
   "source": [
    "time_gender_pulse = df.groupby(['Lower_hour', 'Gender'])['PulseRate'].mean().reset_index()"
   ]
  },
  {
   "cell_type": "code",
   "execution_count": 64,
   "metadata": {},
   "outputs": [],
   "source": [
    "time_labels = {0: '00-06', 6: '06-12', 12: '12-18'}"
   ]
  },
  {
   "cell_type": "code",
   "execution_count": 65,
   "metadata": {},
   "outputs": [],
   "source": [
    "time_gender_pulse['Time Interval'] = time_gender_pulse['Lower_hour'].map(time_labels)"
   ]
  },
  {
   "cell_type": "code",
   "execution_count": 66,
   "metadata": {},
   "outputs": [],
   "source": [
    "time_gender_pulse.sort_values(by='Lower_hour', inplace=True)"
   ]
  },
  {
   "cell_type": "code",
   "execution_count": 67,
   "metadata": {},
   "outputs": [],
   "source": [
    "male_data = time_gender_pulse[time_gender_pulse['Gender'] == 'm']\n",
    "female_data = time_gender_pulse[time_gender_pulse['Gender'] == 'f']"
   ]
  },
  {
   "cell_type": "code",
   "execution_count": 68,
   "metadata": {},
   "outputs": [
    {
     "data": {
      "image/png": "[encoded data removed]",
      "text/plain": [
       "<Figure size 1000x600 with 1 Axes>"
      ]
     },
     "metadata": {},
     "output_type": "display_data"
    }
   ],
   "source": [
    "plt.figure(figsize=(10, 6))\n",
    "\n",
    "plt.plot(male_data['Time Interval'], male_data['PulseRate'], marker='o', linestyle='-', color='blue', label='Male')\n",
    "plt.plot(female_data['Time Interval'], female_data['PulseRate'], marker='o', linestyle='-', color='red', label='Female')\n",
    "\n",
    "plt.xlabel('Time Interval')\n",
    "plt.ylabel('Average Pulse Rate')\n",
    "plt.title('Change in Average Pulse Rate by Time Interval and Gender')\n",
    "plt.legend()\n",
    "plt.grid(True)\n",
    "plt.tight_layout()\n",
    "\n",
    "# Show the plot\n",
    "plt.show()"
   ]
  }
 ],
 "metadata": {
  "kernelspec": {
   "display_name": "Python 3.8.5 64-bit ('ProgramData': virtualenv)",
   "metadata": {
    "interpreter": {
     "hash": "b3ba2566441a7c06988d0923437866b63cedc61552a5af99d1f4fb67d367b25f"
    }
   },
   "name": "python3"
  },
  "language_info": {
   "codemirror_mode": {
    "name": "ipython",
    "version": 3
   },
   "file_extension": ".py",
   "mimetype": "text/x-python",
   "name": "python",
   "nbconvert_exporter": "python",
   "pygments_lexer": "ipython3",
   "version": "3.12.5"
  },
  "orig_nbformat": 2
 },
 "nbformat": 4,
 "nbformat_minor": 2
}
